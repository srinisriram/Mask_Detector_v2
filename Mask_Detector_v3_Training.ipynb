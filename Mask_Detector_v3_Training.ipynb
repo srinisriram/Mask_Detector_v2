{
 "cells": [
  {
   "cell_type": "markdown",
   "id": "leading-times",
   "metadata": {},
   "source": [
    "## Set up the Environment"
   ]
  },
  {
   "cell_type": "markdown",
   "id": "jewish-alias",
   "metadata": {},
   "source": [
    "### Install the necessary packages"
   ]
  },
  {
   "cell_type": "code",
   "execution_count": null,
   "id": "pretty-jumping",
   "metadata": {},
   "outputs": [],
   "source": [
    "!pip3 install -Uqq fastbook\n",
    "!pip3 install torch "
   ]
  },
  {
   "cell_type": "code",
   "execution_count": null,
   "id": "funny-israeli",
   "metadata": {},
   "outputs": [],
   "source": [
    "from fastbook import *\n",
    "from fastai.vision import *"
   ]
  },
  {
   "cell_type": "markdown",
   "id": "simple-municipality",
   "metadata": {},
   "source": [
    "### Initialize the Dataset"
   ]
  },
  {
   "cell_type": "code",
   "execution_count": null,
   "id": "industrial-poultry",
   "metadata": {},
   "outputs": [],
   "source": [
    "# Define constants\n",
    "dataset_path = ''\n",
    "Path.BASE_PATH = dataset_path"
   ]
  },
  {
   "cell_type": "code",
   "execution_count": null,
   "id": "iraqi-spiritual",
   "metadata": {},
   "outputs": [],
   "source": [
    "# View contents of dataset\n",
    "dataset_path.ls()\n",
    "(dataset_path/'with_mask').ls()\n",
    "(dataset_path/'without_mask').ls()"
   ]
  },
  {
   "cell_type": "code",
   "execution_count": null,
   "id": "young-merchandise",
   "metadata": {},
   "outputs": [],
   "source": [
    "# Define dataset architecture and loading capabilites\n",
    "model_data = DataBlock(\n",
    "    blocks=(ImageBlock, CategoryBlock), \n",
    "    get_items=get_image_files, \n",
    "    splitter=RandomSplitter(valid_pct=0.2, seed=42),\n",
    "    get_y=parent_label,\n",
    "    item_tfms=Resize(128))\n",
    "    #item_tfms=Resize(460)\n",
    "    #batch_tfms=aug_transforms(size=128, min_scale=0.75))\n",
    "    \n",
    "dls = model_data.dataloaders(dataset_path)"
   ]
  },
  {
   "cell_type": "code",
   "execution_count": null,
   "id": "flying-token",
   "metadata": {},
   "outputs": [],
   "source": [
    "# Data augmentation\n",
    "model_aug = model_data.new(item_tfms=Resize(128), batch_tfms=aug_transforms(mult=4))\n",
    "dls = model_aug.dataloaders(path)\n",
    "dls.train.show_batch(max_n=8, nrows=2, unique=True)"
   ]
  }
 ],
 "metadata": {
  "kernelspec": {
   "display_name": "Python 3",
   "language": "python",
   "name": "python3"
  },
  "language_info": {
   "codemirror_mode": {
    "name": "ipython",
    "version": 3
   },
   "file_extension": ".py",
   "mimetype": "text/x-python",
   "name": "python",
   "nbconvert_exporter": "python",
   "pygments_lexer": "ipython3",
   "version": "3.8.6"
  }
 },
 "nbformat": 4,
 "nbformat_minor": 5
}
